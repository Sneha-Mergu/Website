{
 "cells": [
  {
   "cell_type": "code",
   "execution_count": 1,
   "id": "8aee8fd5",
   "metadata": {},
   "outputs": [
    {
     "name": "stdout",
     "output_type": "stream",
     "text": [
      "Requirement already satisfied: mysql-connector-python in c:\\users\\krish\\appdata\\roaming\\python\\python311\\site-packages (9.0.0)\n",
      "Note: you may need to restart the kernel to use updated packages.\n"
     ]
    }
   ],
   "source": [
    "pip install mysql-connector-python"
   ]
  },
  {
   "cell_type": "code",
   "execution_count": 2,
   "id": "24a63009",
   "metadata": {},
   "outputs": [],
   "source": [
    "import mysql.connector"
   ]
  },
  {
   "cell_type": "code",
   "execution_count": 3,
   "id": "01fab420",
   "metadata": {},
   "outputs": [],
   "source": [
    "mydb=mysql.connector.connect(host=\"localhost\",user=\"root\",passwd=\"skm2004\")"
   ]
  },
  {
   "cell_type": "code",
   "execution_count": 4,
   "id": "8885483d",
   "metadata": {},
   "outputs": [],
   "source": [
    "mycursor=mydb.cursor()\n",
    "mycursor.execute(\"CREATE DATABASE mygoogle10\")"
   ]
  },
  {
   "cell_type": "code",
   "execution_count": 5,
   "id": "4a96694b",
   "metadata": {},
   "outputs": [],
   "source": [
    "mydb=mysql.connector.connect(host=\"localhost\",user=\"root\",passwd=\"skm2004\",database=\"mygoogle2\")"
   ]
  },
  {
   "cell_type": "code",
   "execution_count": 6,
   "id": "0b74a77b",
   "metadata": {},
   "outputs": [],
   "source": [
    "mycursor=mydb.cursor()\n",
    "mycursor.execute(\"CREATE TABLE searchrankdetails10 (websitename VARCHAR(255), count VARCHAR(255), remarks VARCHAR(255))\")"
   ]
  }
 ],
 "metadata": {
  "kernelspec": {
   "display_name": "Python 3 (ipykernel)",
   "language": "python",
   "name": "python3"
  },
  "language_info": {
   "codemirror_mode": {
    "name": "ipython",
    "version": 3
   },
   "file_extension": ".py",
   "mimetype": "text/x-python",
   "name": "python",
   "nbconvert_exporter": "python",
   "pygments_lexer": "ipython3",
   "version": "3.11.5"
  }
 },
 "nbformat": 4,
 "nbformat_minor": 5
}
